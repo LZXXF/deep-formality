{
 "cells": [
  {
   "cell_type": "code",
   "execution_count": 32,
   "id": "9aa2ce17",
   "metadata": {
    "id": "9aa2ce17"
   },
   "outputs": [],
   "source": [
    "import os\n",
    "import tensorflow as tf\n",
    "import tensorflow_hub as hub\n",
    "import tensorflow_text as text\n",
    "from official.nlp import optimization\n",
    "import pandas as pd\n",
    "import numpy as np\n",
    "from sklearn.model_selection import train_test_split\n",
    "from sklearn.metrics import mean_squared_error\n",
    "from scipy import stats\n",
    "import datetime"
   ]
  },
  {
   "cell_type": "code",
   "execution_count": 47,
   "id": "8335574d",
   "metadata": {},
   "outputs": [],
   "source": [
    "#data = 'tokenized_answers.xlsx'\n",
    "#data = 'tokenized_blog.xlsx'\n",
    "#data = 'tokenized_email.xlsx'\n",
    "data = 'tokenized_news.xlsx'\n",
    "data_df = pd.read_excel(data)\n",
    "X_df = data_df[['text']]\n",
    "y_df = data_df['score']"
   ]
  },
  {
   "cell_type": "code",
   "execution_count": 48,
   "id": "cc75da74",
   "metadata": {},
   "outputs": [
    {
     "data": {
      "text/plain": [
       "(2775,)"
      ]
     },
     "execution_count": 48,
     "metadata": {},
     "output_type": "execute_result"
    }
   ],
   "source": [
    "X_np = X_df.values\n",
    "X_np = X_np.reshape((-1))\n",
    "X_np.shape"
   ]
  },
  {
   "cell_type": "code",
   "execution_count": 49,
   "id": "cedd5dc3",
   "metadata": {},
   "outputs": [],
   "source": [
    "tfhub_handle_encoder = '../models/bert_en_cased_L-12_H-768_A-12_3'\n",
    "tfhub_handle_preprocess = '../models/bert_en_cased_preprocess_3'"
   ]
  },
  {
   "cell_type": "code",
   "execution_count": 50,
   "id": "3ad933a0",
   "metadata": {},
   "outputs": [],
   "source": [
    "def get_bert_embedding(text):    \n",
    "    preprocessing_layer = hub.KerasLayer(tfhub_handle_preprocess, name='preprocessing')\n",
    "    encoder_inputs = preprocessing_layer(text)\n",
    "    encoder = hub.KerasLayer(tfhub_handle_encoder, trainable=False, name='BERT_encoder')\n",
    "    input_masks = encoder_inputs['input_mask']\n",
    "    encoder_outputs = encoder(encoder_inputs)\n",
    "    encoder_outputs = encoder_outputs['sequence_output']\n",
    "    input_masks = input_masks==1\n",
    "    res = []\n",
    "    for i in range(len(encoder_outputs)):\n",
    "        mask = input_masks[i]\n",
    "        output = encoder_outputs[i][mask]\n",
    "        res.append(output)\n",
    "    return np.array(res, dtype=object)"
   ]
  },
  {
   "cell_type": "code",
   "execution_count": 51,
   "id": "04835ff7",
   "metadata": {},
   "outputs": [],
   "source": [
    "res = []\n",
    "n = len(X_np)\n",
    "batch_size = 32\n",
    "steps = (n-1) // batch_size + 1\n",
    "for i in range(steps):\n",
    "    start = 32*i\n",
    "    end = min(start+32, n)\n",
    "    text = X_np[start:end]\n",
    "    embedding = get_bert_embedding(text)\n",
    "    res.append(embedding)"
   ]
  },
  {
   "cell_type": "code",
   "execution_count": 52,
   "id": "c4b22586",
   "metadata": {},
   "outputs": [],
   "source": [
    "res_concat = np.concatenate(res, axis=0)"
   ]
  },
  {
   "cell_type": "code",
   "execution_count": 53,
   "id": "f93e9881",
   "metadata": {},
   "outputs": [],
   "source": [
    "results_path = 'bert_embedding_news.npy'\n",
    "np.save(results_path, res_concat)"
   ]
  },
  {
   "cell_type": "code",
   "execution_count": null,
   "id": "85ed50ab",
   "metadata": {},
   "outputs": [],
   "source": []
  }
 ],
 "metadata": {
  "colab": {
   "name": "formality_finetune_bert.ipynb",
   "provenance": []
  },
  "kernelspec": {
   "display_name": "Python 3 (ipykernel)",
   "language": "python",
   "name": "python3"
  },
  "language_info": {
   "codemirror_mode": {
    "name": "ipython",
    "version": 3
   },
   "file_extension": ".py",
   "mimetype": "text/x-python",
   "name": "python",
   "nbconvert_exporter": "python",
   "pygments_lexer": "ipython3",
   "version": "3.8.12"
  }
 },
 "nbformat": 4,
 "nbformat_minor": 5
}
