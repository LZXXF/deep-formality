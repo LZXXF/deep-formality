{
 "cells": [
  {
   "cell_type": "code",
   "execution_count": null,
   "id": "9aa2ce17",
   "metadata": {
    "id": "9aa2ce17"
   },
   "outputs": [],
   "source": [
    "import os\n",
    "import tensorflow as tf\n",
    "import tensorflow_hub as hub\n",
    "import tensorflow_text as text\n",
    "from official.nlp import optimization\n",
    "import pandas as pd\n",
    "import numpy as np\n",
    "from sklearn.model_selection import train_test_split\n",
    "from sklearn.metrics import mean_squared_error\n",
    "from scipy import stats\n",
    "import datetime"
   ]
  },
  {
   "cell_type": "code",
   "execution_count": null,
   "id": "8335574d",
   "metadata": {},
   "outputs": [],
   "source": [
    "data_dict = {'answers': 'tokenized_answers.xlsx',\n",
    "             'blogs': 'tokenized_blog.xlsx',\n",
    "             'emails': 'tokenized_email.xlsx',\n",
    "             'news': 'tokenized_email.xlsx'}\n",
    "data_folder = '../data/formality'"
   ]
  },
  {
   "cell_type": "code",
   "execution_count": null,
   "id": "cedd5dc3",
   "metadata": {},
   "outputs": [],
   "source": [
    "tfhub_handle_encoder = '../models/bert_en_cased_L-12_H-768_A-12_3'\n",
    "tfhub_handle_preprocess = '../models/bert_en_cased_preprocess_3'"
   ]
  },
  {
   "cell_type": "code",
   "execution_count": null,
   "id": "20044a5e",
   "metadata": {},
   "outputs": [],
   "source": [
    "def build_classifier_model():\n",
    "  text_input = tf.keras.layers.Input(shape=(), dtype=tf.string, name='text')\n",
    "  preprocessing_layer = hub.KerasLayer(tfhub_handle_preprocess, name='preprocessing')\n",
    "  encoder_inputs = preprocessing_layer(text_input)\n",
    "  encoder = hub.KerasLayer(tfhub_handle_encoder, trainable=True, name='BERT_encoder')\n",
    "  outputs = encoder(encoder_inputs)\n",
    "  net = outputs['pooled_output']\n",
    "  net = tf.keras.layers.Dropout(0.1)(net)\n",
    "  net = tf.keras.layers.Dense(384, activation='linear', name='dense_1')(net)  \n",
    "  net = tf.keras.layers.Dropout(0.1)(net)\n",
    "  net = tf.keras.layers.Dense(192, activation='linear', name='dense_2')(net)\n",
    "  net = tf.keras.layers.Dropout(0.1)(net)\n",
    "  net = tf.keras.layers.Dense(96, activation='linear', name='dense_3')(net)\n",
    "  net = tf.keras.layers.Dropout(0.1)(net)\n",
    "  net = tf.keras.layers.Dense(48, activation='linear', name='dense_4')(net)\n",
    "  net = tf.keras.layers.Dropout(0.1)(net)\n",
    "  net = tf.keras.layers.Dense(32, activation='linear', name='dense_5')(net)\n",
    "  net = tf.keras.layers.Dropout(0.1)(net)\n",
    "  net = tf.keras.layers.Dense(1, activation='linear', name='classifier')(net)\n",
    "  return tf.keras.Model(text_input, net)"
   ]
  },
  {
   "cell_type": "code",
   "execution_count": null,
   "id": "7ac62f38",
   "metadata": {},
   "outputs": [],
   "source": [
    "start_time = datetime.datetime.now()\n",
    "print(f\"Training start time: {start_time}\")"
   ]
  },
  {
   "cell_type": "code",
   "execution_count": null,
   "id": "65b721dc",
   "metadata": {},
   "outputs": [],
   "source": [
    "results = []\n",
    "genres = ['answers', 'blogs', 'emails', 'news']\n",
    "for genre in genres:\n",
    "    data_file = data_dict[genre]\n",
    "    data_file_path = os.path.join(data_folder, data_file)\n",
    "    data_df = pd.read_excel(data_file_path)\n",
    "    X_df = data_df[['text']]\n",
    "    y_df = data_df['score']\n",
    "    X_train_df, X_test_df, y_train_df, y_test_df =  train_test_split(X_df, y_df, test_size = 0.20, random_state=11)\n",
    "    X_train_df, X_val_df, y_train_df, y_val_df =  train_test_split(X_train_df, y_train_df, test_size = 0.20, random_state=11)\n",
    "    X_train_np = X_train_df.values\n",
    "    X_val_np = X_val_df.values\n",
    "    X_test_np = X_test_df.values\n",
    "    y_train_np = y_train_df.values\n",
    "    y_val_np = y_val_df.values\n",
    "    y_test_np = y_test_df.values\n",
    "    model = build_classifier_model()\n",
    "    loss = tf.keras.losses.MeanSquaredError()\n",
    "    #metrics = tf.metrics.MeanSquaredError()\n",
    "    epochs = 30\n",
    "    batch = 32\n",
    "    lr = 3e-5\n",
    "    optimizer = tf.keras.optimizers.Adam(lr)\n",
    "    model.compile(optimizer=optimizer,\n",
    "                              loss=loss)\n",
    "    early_stopping = tf.keras.callbacks.EarlyStopping(monitor='val_loss', \n",
    "                                                patience=5,\n",
    "                                                restore_best_weights=True)\n",
    "    callbacks = [early_stopping]\n",
    "    history = model.fit(x=X_train_np,\n",
    "                                    y=y_train_np,\n",
    "                                    batch_size=batch,\n",
    "                                    validation_data=(X_val_np, y_val_np),\n",
    "                                    epochs=epochs,\n",
    "                                    callbacks=callbacks)\n",
    "    train_results = model.predict(X_train_np)\n",
    "    train_mse = mean_squared_error(train_results, y_train_np)\n",
    "    train_spearman_r = stats.spearmanr(train_results, y_train_np)\n",
    "    \n",
    "    val_results = model.predict(X_val_np)\n",
    "    val_mse = mean_squared_error(val_results, y_val_np)\n",
    "    val_spearman_r = stats.spearmanr(val_results, y_val_np)\n",
    "    \n",
    "    test_results = model.predict(X_test_np)\n",
    "    test_mse = mean_squared_error(test_results, y_test_np)\n",
    "    test_spearman_r = stats.spearmanr(test_results, y_test_np)\n",
    "    \n",
    "    result = [train_mse, train_spearman_r, \n",
    "              val_mse, val_spearman_r, \n",
    "              test_mse, test_spearman_r]\n",
    "    results.append(result)"
   ]
  },
  {
   "cell_type": "code",
   "execution_count": null,
   "id": "70dbebff",
   "metadata": {},
   "outputs": [],
   "source": [
    "end_time = datetime.datetime.now()\n",
    "print(f\"Training end time: {end_time}\")"
   ]
  },
  {
   "cell_type": "code",
   "execution_count": null,
   "id": "B8q98BlZCzPI",
   "metadata": {
    "id": "B8q98BlZCzPI"
   },
   "outputs": [],
   "source": [
    "columns = ['train_mse', 'train_spearman_r', 'val_mse', 'val_spearman_r', 'test_mse', 'test_spearman_r']\n",
    "results_df = pd.DataFrame(results, index=genres, columns=columns)\n",
    "results_path = '../results/formality/results_4_genres_bert_linear_1.csv'\n",
    "results_df.to_csv(results_path)"
   ]
  },
  {
   "cell_type": "code",
   "execution_count": null,
   "id": "f93e9881",
   "metadata": {},
   "outputs": [],
   "source": []
  }
 ],
 "metadata": {
  "colab": {
   "name": "formality_finetune_bert.ipynb",
   "provenance": []
  },
  "kernelspec": {
   "display_name": "Python 3 (ipykernel)",
   "language": "python",
   "name": "python3"
  },
  "language_info": {
   "codemirror_mode": {
    "name": "ipython",
    "version": 3
   },
   "file_extension": ".py",
   "mimetype": "text/x-python",
   "name": "python",
   "nbconvert_exporter": "python",
   "pygments_lexer": "ipython3",
   "version": "3.8.12"
  }
 },
 "nbformat": 4,
 "nbformat_minor": 5
}
