{
 "cells": [
  {
   "cell_type": "code",
   "execution_count": 1,
   "id": "81307750",
   "metadata": {},
   "outputs": [],
   "source": [
    "import pandas as pd\n",
    "import tensorflow as tf\n",
    "from tensorflow.keras.preprocessing.text import one_hot\n",
    "from collections import defaultdict\n",
    "import numpy as np\n",
    "from sklearn.model_selection import train_test_split\n",
    "from sklearn.metrics import mean_squared_error\n",
    "from scipy import stats\n",
    "from tensorflow import keras\n",
    "from tensorflow.keras import layers, Model\n",
    "from tensorflow.keras.layers import Dense, concatenate\n",
    "from tensorflow.keras.preprocessing.text import Tokenizer\n",
    "from tensorflow.keras.preprocessing.sequence import pad_sequences\n",
    "from datetime import datetime\n",
    "from collections import defaultdict\n",
    "from matplotlib import pyplot as plt"
   ]
  },
  {
   "cell_type": "code",
   "execution_count": 2,
   "id": "51d905ab",
   "metadata": {},
   "outputs": [
    {
     "name": "stderr",
     "output_type": "stream",
     "text": [
      "/tmp/ipykernel_24864/1571134795.py:30: SettingWithCopyWarning: \n",
      "A value is trying to be set on a copy of a slice from a DataFrame.\n",
      "Try using .loc[row_indexer,col_indexer] = value instead\n",
      "\n",
      "See the caveats in the documentation: https://pandas.pydata.org/pandas-docs/stable/user_guide/indexing.html#returning-a-view-versus-a-copy\n",
      "  text_train_df.text = text_train_df.text.astype(str)\n",
      "/tmp/ipykernel_24864/1571134795.py:32: SettingWithCopyWarning: \n",
      "A value is trying to be set on a copy of a slice from a DataFrame.\n",
      "Try using .loc[row_indexer,col_indexer] = value instead\n",
      "\n",
      "See the caveats in the documentation: https://pandas.pydata.org/pandas-docs/stable/user_guide/indexing.html#returning-a-view-versus-a-copy\n",
      "  text_val_df.text = text_val_df.text.astype(str)\n",
      "/tmp/ipykernel_24864/1571134795.py:34: SettingWithCopyWarning: \n",
      "A value is trying to be set on a copy of a slice from a DataFrame.\n",
      "Try using .loc[row_indexer,col_indexer] = value instead\n",
      "\n",
      "See the caveats in the documentation: https://pandas.pydata.org/pandas-docs/stable/user_guide/indexing.html#returning-a-view-versus-a-copy\n",
      "  text_test_df.text = text_test_df.text.astype(str)\n"
     ]
    }
   ],
   "source": [
    "#data = 'tokenized_answers.xlsx'\n",
    "#data = 'tokenized_blogs.xlsx'\n",
    "#data = 'tokenized_emails.xlsx'\n",
    "data = 'tokenized_news.xlsx'\n",
    "data_df = pd.read_excel(data)\n",
    "X_df = data_df[['pos', 'text']]\n",
    "y_df = data_df['score']\n",
    "X_train_df, X_test_df, y_train_df, y_test_df =  train_test_split(X_df, y_df, test_size = 0.20, random_state=15)\n",
    "X_train_df, X_val_df, y_train_df, y_val_df = train_test_split(X_train_df, y_train_df, test_size=0.20, random_state=10) \n",
    "\n",
    "X_train_index = X_train_df.index\n",
    "X_val_index = X_val_df.index\n",
    "X_test_index = X_test_df.index\n",
    "y_train_index = y_train_df.index\n",
    "y_val_index = y_val_df.index\n",
    "y_test_index = y_test_df.index\n",
    "\n",
    "X_train_df = X_train_df.reset_index(drop=True)\n",
    "X_val_df = X_val_df.reset_index(drop=True)\n",
    "X_test_df = X_test_df.reset_index(drop=True)\n",
    "y_train_np = y_train_df.values\n",
    "y_val_np = y_val_df.values\n",
    "y_test_np = y_test_df.values\n",
    "\n",
    "pos_train_df = X_train_df[['pos']]\n",
    "pos_val_df = X_val_df[['pos']]\n",
    "pos_test_df = X_test_df[['pos']]\n",
    "\n",
    "text_train_df = X_train_df[['text']]\n",
    "text_train_df.text = text_train_df.text.astype(str)\n",
    "text_val_df = X_val_df[['text']]\n",
    "text_val_df.text = text_val_df.text.astype(str)\n",
    "text_test_df = X_test_df[['text']]\n",
    "text_test_df.text = text_test_df.text.astype(str)"
   ]
  },
  {
   "cell_type": "code",
   "execution_count": 3,
   "id": "676f8c36",
   "metadata": {},
   "outputs": [
    {
     "name": "stderr",
     "output_type": "stream",
     "text": [
      "2022-03-23 15:57:39.121811: I tensorflow/core/platform/cpu_feature_guard.cc:142] This TensorFlow binary is optimized with oneAPI Deep Neural Network Library (oneDNN) to use the following CPU instructions in performance-critical operations:  AVX2 FMA\n",
      "To enable them in other operations, rebuild TensorFlow with the appropriate compiler flags.\n",
      "2022-03-23 15:57:41.881968: I tensorflow/core/common_runtime/gpu/gpu_device.cc:1510] Created device /job:localhost/replica:0/task:0/device:GPU:0 with 11089 MB memory:  -> device: 0, name: GeForce GTX TITAN X, pci bus id: 0000:03:00.0, compute capability: 5.2\n"
     ]
    }
   ],
   "source": [
    "#embedding_npy = '../data/formality/bert_embedding_answers.npy'\n",
    "#embedding_npy = '../data/formality/bert_embedding_blogs.npy'\n",
    "#embedding_npy = '../data/formality/bert_embedding_emails.npy'\n",
    "embedding_npy = '../data/formality/bert_embedding_news.npy'\n",
    "X_np = np.load(embedding_npy,allow_pickle=True)\n",
    "X_np_padded = tf.keras.preprocessing.sequence.pad_sequences(X_np,\n",
    "                                                             padding='post')"
   ]
  },
  {
   "cell_type": "code",
   "execution_count": 4,
   "id": "59e429aa",
   "metadata": {},
   "outputs": [],
   "source": [
    "bert_encoding_train_np = X_np_padded[X_train_index]\n",
    "bert_encoding_val_np = X_np_padded[X_val_index]\n",
    "bert_encoding_test_np = X_np_padded[X_test_index]"
   ]
  },
  {
   "cell_type": "code",
   "execution_count": 5,
   "id": "e76333bd",
   "metadata": {},
   "outputs": [],
   "source": [
    "# Create pos vocabulary, encode pos data\n",
    "pos_vocab = defaultdict(int)\n",
    "pos_train_encode = []\n",
    "pos_val_encode = []\n",
    "pos_test_encode = []\n",
    "\n",
    "for i in range(len(pos_train_df)):\n",
    "    pos_tokens = pos_train_df['pos'][i]\n",
    "    pos_tokens = eval(pos_tokens)\n",
    "    encode = []\n",
    "    \n",
    "    for pos in pos_tokens:\n",
    "        if pos not in pos_vocab:\n",
    "            pos_vocab_size = len(pos_vocab)\n",
    "            pos_vocab[pos] = pos_vocab_size + 1\n",
    "        \n",
    "        encode.append(pos_vocab[pos])\n",
    "        \n",
    "    pos_train_encode.append(encode)\n",
    "    \n",
    "for i in range(len(pos_val_df)):\n",
    "    pos_tokens = pos_val_df['pos'][i]\n",
    "    pos_tokens = eval(pos_tokens)\n",
    "    encode = []\n",
    "    \n",
    "    for pos in pos_tokens:\n",
    "        if pos not in pos_vocab:\n",
    "            pos_vocab_size = len(pos_vocab)\n",
    "            pos_vocab[pos] = pos_vocab_size + 1\n",
    "        \n",
    "        encode.append(pos_vocab[pos])\n",
    "        \n",
    "    pos_val_encode.append(encode)\n",
    "    \n",
    "for i in range(len(pos_test_df)):\n",
    "    pos_tokens = pos_test_df['pos'][i]\n",
    "    pos_tokens = eval(pos_tokens)\n",
    "    encode = []\n",
    "    \n",
    "    for pos in pos_tokens:\n",
    "        if pos not in pos_vocab:\n",
    "            pos_vocab_size = len(pos_vocab)\n",
    "            pos_vocab[pos] = pos_vocab_size + 1\n",
    "        \n",
    "        encode.append(pos_vocab[pos])\n",
    "        \n",
    "    pos_test_encode.append(encode)\n",
    "    \n",
    "# Pad pos encode\n",
    "max_pos_timestep = 0\n",
    "for i in range(len(pos_train_encode)):\n",
    "    arr = pos_train_encode[i]\n",
    "    l = len(arr)\n",
    "    max_pos_timestep = max(max_pos_timestep, l)\n",
    "    \n",
    "for i in range(len(pos_val_encode)):\n",
    "    arr = pos_val_encode[i]\n",
    "    l = len(arr)\n",
    "    max_pos_timestep = max(max_pos_timestep, l)\n",
    "    \n",
    "for i in range(len(pos_test_encode)):\n",
    "    arr = pos_test_encode[i]\n",
    "    l = len(arr)\n",
    "    max_pos_timestep = max(max_pos_timestep, l)\n",
    "padded_pos_train_encode = tf.keras.preprocessing.sequence.pad_sequences(pos_train_encode,\n",
    "                                                                        maxlen=max_pos_timestep,\n",
    "                                                                        padding='post')\n",
    "padded_pos_val_encode = tf.keras.preprocessing.sequence.pad_sequences(pos_val_encode,\n",
    "                                                                        maxlen=max_pos_timestep,\n",
    "                                                                        padding='post')\n",
    "padded_pos_test_encode = tf.keras.preprocessing.sequence.pad_sequences(pos_test_encode,\n",
    "                                                                       maxlen=max_pos_timestep,\n",
    "                                                                       padding='post')"
   ]
  },
  {
   "cell_type": "code",
   "execution_count": 6,
   "id": "1daad15a",
   "metadata": {},
   "outputs": [],
   "source": [
    "epochs = 200\n",
    "batch = 32\n",
    "lr = 3e-5\n",
    "loss = tf.keras.losses.MeanSquaredError()\n",
    "metrics = tf.metrics.MeanSquaredError()"
   ]
  },
  {
   "cell_type": "code",
   "execution_count": 16,
   "id": "d00a6c60",
   "metadata": {},
   "outputs": [
    {
     "name": "stdout",
     "output_type": "stream",
     "text": [
      "2022-03-23 16:06:12.314205\n",
      "Epoch 1/200\n",
      "56/56 [==============================] - 9s 73ms/step - loss: 0.7611 - mean_squared_error: 0.7225 - val_loss: 0.6905 - val_mean_squared_error: 0.6905\n",
      "Epoch 2/200\n",
      "56/56 [==============================] - 2s 40ms/step - loss: 0.6413 - mean_squared_error: 0.6413 - val_loss: 0.6188 - val_mean_squared_error: 0.6188\n",
      "Epoch 3/200\n",
      "56/56 [==============================] - 2s 39ms/step - loss: 0.5948 - mean_squared_error: 0.5948 - val_loss: 0.5767 - val_mean_squared_error: 0.5767\n",
      "Epoch 4/200\n",
      "56/56 [==============================] - 2s 39ms/step - loss: 0.5610 - mean_squared_error: 0.5610 - val_loss: 0.5311 - val_mean_squared_error: 0.5311\n",
      "Epoch 5/200\n",
      "56/56 [==============================] - 2s 40ms/step - loss: 0.5367 - mean_squared_error: 0.5367 - val_loss: 0.5344 - val_mean_squared_error: 0.5344\n",
      "Epoch 6/200\n",
      "56/56 [==============================] - 2s 39ms/step - loss: 0.5118 - mean_squared_error: 0.5118 - val_loss: 0.5240 - val_mean_squared_error: 0.5240\n",
      "Epoch 7/200\n",
      "56/56 [==============================] - 2s 40ms/step - loss: 0.4975 - mean_squared_error: 0.4975 - val_loss: 0.5084 - val_mean_squared_error: 0.5084\n",
      "Epoch 8/200\n",
      "56/56 [==============================] - 2s 39ms/step - loss: 0.4810 - mean_squared_error: 0.4810 - val_loss: 0.5046 - val_mean_squared_error: 0.5046\n",
      "Epoch 9/200\n",
      "56/56 [==============================] - 2s 41ms/step - loss: 0.4685 - mean_squared_error: 0.4685 - val_loss: 0.5195 - val_mean_squared_error: 0.5195\n",
      "Epoch 10/200\n",
      "56/56 [==============================] - 2s 41ms/step - loss: 0.4475 - mean_squared_error: 0.4475 - val_loss: 0.5050 - val_mean_squared_error: 0.5050\n",
      "Epoch 11/200\n",
      "56/56 [==============================] - 2s 40ms/step - loss: 0.4181 - mean_squared_error: 0.4181 - val_loss: 0.5074 - val_mean_squared_error: 0.5074\n",
      "Epoch 12/200\n",
      "56/56 [==============================] - 2s 40ms/step - loss: 0.4012 - mean_squared_error: 0.4012 - val_loss: 0.5098 - val_mean_squared_error: 0.5098\n",
      "Epoch 13/200\n",
      "56/56 [==============================] - 2s 40ms/step - loss: 0.3967 - mean_squared_error: 0.3967 - val_loss: 0.5119 - val_mean_squared_error: 0.5119\n",
      "Epoch 14/200\n",
      "56/56 [==============================] - 2s 40ms/step - loss: 0.3622 - mean_squared_error: 0.3622 - val_loss: 0.5457 - val_mean_squared_error: 0.5457\n",
      "Epoch 15/200\n",
      "56/56 [==============================] - 2s 40ms/step - loss: 0.3590 - mean_squared_error: 0.3590 - val_loss: 0.5311 - val_mean_squared_error: 0.5311\n",
      "Epoch 16/200\n",
      "56/56 [==============================] - 2s 40ms/step - loss: 0.3196 - mean_squared_error: 0.3196 - val_loss: 0.5455 - val_mean_squared_error: 0.5455\n",
      "Epoch 17/200\n",
      "56/56 [==============================] - 2s 40ms/step - loss: 0.3210 - mean_squared_error: 0.3210 - val_loss: 0.5541 - val_mean_squared_error: 0.5541\n",
      "Epoch 18/200\n",
      "56/56 [==============================] - 2s 40ms/step - loss: 0.2818 - mean_squared_error: 0.2818 - val_loss: 0.5790 - val_mean_squared_error: 0.5790\n",
      "2022-03-23 16:07:00.363789\n"
     ]
    }
   ],
   "source": [
    "#pos model\n",
    "pos_vocab_size = len(pos_vocab) + 1\n",
    "pos_timesteps = padded_pos_train_encode.shape[-1]\n",
    "features  = 256\n",
    "pos_model = keras.Sequential()\n",
    "pos_model.add(layers.Embedding(pos_vocab_size, features, input_length=pos_timesteps, mask_zero=True))\n",
    "pos_model.add(layers.LSTM(features))\n",
    "\n",
    "\n",
    "#text model\n",
    "text_timesteps =  bert_encoding_train_np.shape[1]\n",
    "text_features = bert_encoding_train_np.shape[2]\n",
    "text_model = keras.Sequential()\n",
    "text_model.add(layers.Masking(mask_value=0.,\n",
    "                        input_shape=(text_timesteps, text_features)))\n",
    "text_model.add(layers.LSTM(text_features))\n",
    "\n",
    "model_concat = concatenate([pos_model.output, text_model.output], axis=-1)\n",
    "dropout_1 = layers.Dropout(0.1)(model_concat)\n",
    "dense_1 = Dense(512, activation='relu')(dropout_1)\n",
    "dropout_2 = layers.Dropout(0.1)(dense_1)\n",
    "dense_2 = Dense(256, activation='relu')(dropout_2)\n",
    "dropout_3 = layers.Dropout(0.1)(dense_2)\n",
    "dense_3 = Dense(128, activation='relu')(dropout_3)\n",
    "dropout_4 = layers.Dropout(0.1)(dense_3)\n",
    "dense_4 = Dense(64, activation='relu')(dropout_4)\n",
    "dropout_5 = layers.Dropout(0.1)(dense_4)\n",
    "dense_5 = Dense(32, activation='relu')(dropout_5)\n",
    "output = Dense(1, activation='linear')(dense_5)\n",
    "model = Model(inputs=[pos_model.input, text_model.input], outputs=output)\n",
    "model.compile(optimizer=keras.optimizers.Adam(lr),\n",
    "              loss=loss,\n",
    "              metrics=metrics)\n",
    "\n",
    "early_stopping = tf.keras.callbacks.EarlyStopping(monitor='val_loss', \n",
    "                                                  patience=10,\n",
    "                                                  restore_best_weights=True)\n",
    "callbacks = [early_stopping]\n",
    "print(datetime.now())\n",
    "history = model.fit([padded_pos_train_encode, bert_encoding_train_np], \n",
    "                    y_train_np, \n",
    "                    validation_data=([padded_pos_val_encode, bert_encoding_val_np], y_val_np),\n",
    "                    epochs=epochs,\n",
    "                    callbacks=callbacks)\n",
    "print(datetime.now())"
   ]
  },
  {
   "cell_type": "code",
   "execution_count": 17,
   "id": "0ee4c0ed",
   "metadata": {},
   "outputs": [
    {
     "name": "stdout",
     "output_type": "stream",
     "text": [
      "Train mse: 0.43116471867401085\n",
      "Train spearman r: SpearmanrResult(correlation=0.6019932702946851, pvalue=1.362101244181293e-175)\n"
     ]
    }
   ],
   "source": [
    "train_results = model.predict([padded_pos_train_encode, bert_encoding_train_np])\n",
    "train_mse = mean_squared_error(train_results, y_train_np)\n",
    "train_spearman_r = stats.spearmanr(train_results, y_train_np)\n",
    "print(f\"Train mse: {train_mse}\")\n",
    "print(f\"Train spearman r: {train_spearman_r}\")"
   ]
  },
  {
   "cell_type": "code",
   "execution_count": 18,
   "id": "49d45973",
   "metadata": {},
   "outputs": [
    {
     "name": "stdout",
     "output_type": "stream",
     "text": [
      "Test mse: 0.5023148336431259\n",
      "Test spearman r: SpearmanrResult(correlation=0.4924518938703908, pvalue=3.04438705731779e-35)\n"
     ]
    }
   ],
   "source": [
    "test_results = model.predict([padded_pos_test_encode, bert_encoding_test_np])\n",
    "test_mse = mean_squared_error(test_results, y_test_np)\n",
    "test_spearman_r = stats.spearmanr(test_results, y_test_np)\n",
    "print(f\"Test mse: {test_mse}\")\n",
    "print(f\"Test spearman r: {test_spearman_r}\")"
   ]
  },
  {
   "cell_type": "code",
   "execution_count": null,
   "id": "c8cd34b0",
   "metadata": {},
   "outputs": [],
   "source": []
  }
 ],
 "metadata": {
  "kernelspec": {
   "display_name": "Python 3 (ipykernel)",
   "language": "python",
   "name": "python3"
  },
  "language_info": {
   "codemirror_mode": {
    "name": "ipython",
    "version": 3
   },
   "file_extension": ".py",
   "mimetype": "text/x-python",
   "name": "python",
   "nbconvert_exporter": "python",
   "pygments_lexer": "ipython3",
   "version": "3.8.12"
  }
 },
 "nbformat": 4,
 "nbformat_minor": 5
}
