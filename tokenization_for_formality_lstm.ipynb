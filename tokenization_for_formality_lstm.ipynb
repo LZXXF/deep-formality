{
 "cells": [
  {
   "cell_type": "code",
   "execution_count": 21,
   "id": "beab6a99",
   "metadata": {},
   "outputs": [],
   "source": [
    "from nltk.parse import CoreNLPParser\n",
    "import pandas as pd"
   ]
  },
  {
   "cell_type": "code",
   "execution_count": 29,
   "id": "ac48f828",
   "metadata": {},
   "outputs": [],
   "source": [
    "def tokenize_and_pos(data, output):\n",
    "    \"\"\"Tokenize text and get POS for each token.\n",
    "    \n",
    "    Keywords argument:\n",
    "    data -- an excel file containing text and formality label\n",
    "    output -- an excel file containing tokens, POS, and formality\n",
    "    \"\"\"\n",
    "    data_df = pd.read_excel(data)\n",
    "    n = len(data_df)\n",
    "    parser = CoreNLPParser(url='http://localhost:9000')\n",
    "    pos_tagger = CoreNLPParser(url='http://localhost:9000', tagtype='pos')\n",
    "    tokens, pos_tags = [], []\n",
    "    \n",
    "    for i in range(n):\n",
    "        text = data_df['text'][i]\n",
    "        # Get tokenized tokens \n",
    "        parsed_object = parser.tokenize(text)\n",
    "        token_list = list(parsed_object)\n",
    "        tokens.append(token_list)\n",
    "        \n",
    "        # Get pos tags\n",
    "        token_pos_pairs = list(pos_tagger.tag(token_list))\n",
    "        pos_list = []\n",
    "        \n",
    "        for token, pos in token_pos_pairs:\n",
    "            pos_list.append(pos)\n",
    "            \n",
    "        pos_tags.append(pos_list)\n",
    "        \n",
    "    output_df = data_df[['id', 'text', 'score']]\n",
    "    output_df['token'] = tokens\n",
    "    output_df['pos'] = pos_tags\n",
    "    # Order columns\n",
    "    columns = ['id', 'text', 'token', 'pos', 'score']\n",
    "    output_df = output_df[columns]\n",
    "    output_df.to_excel(output, index=None)"
   ]
  },
  {
   "cell_type": "code",
   "execution_count": 30,
   "id": "6dbda260",
   "metadata": {},
   "outputs": [],
   "source": [
    "# Deal with answers data\n",
    "answers_data = 'answers.xlsx'\n",
    "answers_output = 'tokenized_answers.xlsx'\n",
    "tokenize_and_pos(answers_data, answers_output)"
   ]
  },
  {
   "cell_type": "code",
   "execution_count": 31,
   "id": "5b6ddec6",
   "metadata": {},
   "outputs": [],
   "source": [
    "# Deal with blog data\n",
    "blog_data = 'blog.xlsx'\n",
    "blog_output = 'tokenized_blog.xlsx'\n",
    "tokenize_and_pos(blog_data, blog_output)"
   ]
  },
  {
   "cell_type": "code",
   "execution_count": 32,
   "id": "8fa850c3",
   "metadata": {},
   "outputs": [],
   "source": [
    "# Deal with email data\n",
    "email_data = 'email.xlsx'\n",
    "email_output = 'tokenized_email.xlsx'\n",
    "tokenize_and_pos(email_data, email_output)"
   ]
  },
  {
   "cell_type": "code",
   "execution_count": 33,
   "id": "50e24191",
   "metadata": {},
   "outputs": [],
   "source": [
    "# Deal with news data\n",
    "news_data = 'news.xlsx'\n",
    "news_output = 'tokenized_news.xlsx'\n",
    "tokenize_and_pos(news_data, news_output)"
   ]
  },
  {
   "cell_type": "code",
   "execution_count": null,
   "id": "fd30fa10",
   "metadata": {},
   "outputs": [],
   "source": []
  }
 ],
 "metadata": {
  "kernelspec": {
   "display_name": "audio-project",
   "language": "python",
   "name": "audio-project"
  },
  "language_info": {
   "codemirror_mode": {
    "name": "ipython",
    "version": 3
   },
   "file_extension": ".py",
   "mimetype": "text/x-python",
   "name": "python",
   "nbconvert_exporter": "python",
   "pygments_lexer": "ipython3",
   "version": "3.8.8"
  }
 },
 "nbformat": 4,
 "nbformat_minor": 5
}
